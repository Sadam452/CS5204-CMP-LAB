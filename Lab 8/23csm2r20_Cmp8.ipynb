{
  "nbformat": 4,
  "nbformat_minor": 0,
  "metadata": {
    "colab": {
      "provenance": []
    },
    "kernelspec": {
      "name": "python3",
      "display_name": "Python 3"
    },
    "language_info": {
      "name": "python"
    }
  },
  "cells": [
    {
      "cell_type": "markdown",
      "source": [
        "Solve this system of linear equation.\n",
        "4x1 + 3x2- 5x3 = 2\n",
        "-2x1- 4x2 + 5x3 = 5\n",
        "8x1 + 8x2 = -3\n",
        "Constraint : Solution should be generic so that it can be used to solve linear equations with any number of variable.\n",
        "- Print the determinant of the matix | A |.\n",
        "- Print the inverse matrix (A-1)."
      ],
      "metadata": {
        "id": "8L1Arfn5zGsM"
      }
    },
    {
      "cell_type": "code",
      "execution_count": null,
      "metadata": {
        "colab": {
          "base_uri": "https://localhost:8080/"
        },
        "id": "hTvrkOtpy58h",
        "outputId": "e1c14b01-32a3-4df4-fbf7-47c5bdd7f23e"
      },
      "outputs": [
        {
          "output_type": "execute_result",
          "data": {
            "text/plain": [
              "array([ 2.20833333, -2.58333333, -0.18333333])"
            ]
          },
          "metadata": {},
          "execution_count": 27
        }
      ],
      "source": [
        "#using numpy\n",
        "import numpy as np\n",
        "A = np.array([[4, 3, -5], [-2, -4, 5], [8, 8, 0]])\n",
        "B = np.array([2, 5, -3])\n",
        "x = np.linalg.solve(A, B)\n",
        "x"
      ]
    },
    {
      "cell_type": "code",
      "source": [
        "#Without numpy\n",
        "import sys\n",
        "n = int(input(\"Enter number of variables:\"))\n",
        "A = []\n",
        "for i in range(n):\n",
        "    row = list(map(int, input().strip().split()))\n",
        "    A.append(row)\n",
        "B = []\n",
        "print(\"Enter B:\")\n",
        "for i in range(n):\n",
        "  inp =  int(input(\"row\"))\n",
        "  B.append([inp])"
      ],
      "metadata": {
        "colab": {
          "base_uri": "https://localhost:8080/"
        },
        "id": "1AvEIV8h4ys_",
        "outputId": "c407b9c8-ac0f-4683-b530-6015669175d9"
      },
      "execution_count": null,
      "outputs": [
        {
          "name": "stdout",
          "output_type": "stream",
          "text": [
            "Enter number of variables:3\n",
            "4 3 -5\n",
            "-2 -4 5\n",
            "8 8 0\n",
            "Enter B:\n",
            "row2\n",
            "row5\n",
            "row-3\n"
          ]
        }
      ]
    },
    {
      "cell_type": "code",
      "source": [
        "print(A)\n",
        "print(B)"
      ],
      "metadata": {
        "colab": {
          "base_uri": "https://localhost:8080/"
        },
        "id": "hByJx2EGYUfU",
        "outputId": "6af7e09f-7297-43df-db46-9322f64c62dc"
      },
      "execution_count": null,
      "outputs": [
        {
          "output_type": "stream",
          "name": "stdout",
          "text": [
            "[[4, 3, -5], [-2, -4, 5], [8, 8, 0]]\n",
            "[[2], [5], [-3]]\n"
          ]
        }
      ]
    },
    {
      "cell_type": "code",
      "source": [
        "def print_matrix(matrix):\n",
        "    for row in matrix:\n",
        "        print(row)\n",
        "\n",
        "def solve_linear_system(A, B):\n",
        "    n = len(A)\n",
        "\n",
        "    # copy of A And B so that we dont edit original copy\n",
        "    AM = [row[:] for row in A]\n",
        "    BM = [row[:] for row in B]\n",
        "\n",
        "    # Perform Gaussian elimination\n",
        "    for fd in range(n):\n",
        "        fdScaler = 1.0 / AM[fd][fd]\n",
        "        for j in range(n):\n",
        "            AM[fd][j] *= fdScaler\n",
        "        BM[fd][0] *= fdScaler\n",
        "\n",
        "        for i in range(n):\n",
        "            if i != fd:\n",
        "                crScaler = AM[i][fd]\n",
        "                for j in range(n):\n",
        "                    AM[i][j] -= crScaler * AM[fd][j]\n",
        "                BM[i][0] -= crScaler * BM[fd][0]\n",
        "\n",
        "    # return solution\n",
        "    X = [BM[i][0] for i in range(n)]\n",
        "\n",
        "    return X\n",
        "\n",
        "\n",
        "X = solve_linear_system(A, B)\n",
        "\n",
        "# Print the solution\n",
        "print(\"Solution for X:\")\n",
        "print_matrix(X)\n"
      ],
      "metadata": {
        "colab": {
          "base_uri": "https://localhost:8080/"
        },
        "id": "krOcx36uAPOY",
        "outputId": "03493b91-f014-4dcc-805f-e1d5f1e6551b"
      },
      "execution_count": null,
      "outputs": [
        {
          "output_type": "stream",
          "name": "stdout",
          "text": [
            "Solution for X:\n",
            "2.2083333333333335\n",
            "-2.5833333333333335\n",
            "-0.18333333333333326\n"
          ]
        }
      ]
    },
    {
      "cell_type": "code",
      "source": [
        "import numpy as np\n",
        "\n",
        "det_A = np.linalg.det(A)\n",
        "print(\"Determinant of A:\", det_A)\n",
        "\n",
        "try:\n",
        "    A_inverse = np.linalg.inv(A)\n",
        "    print(\"Inverse of A:\")\n",
        "    print(A_inverse)\n",
        "except np.linalg.LinAlgError:\n",
        "    print(\"Matrix is singular, cannot find the inverse\")"
      ],
      "metadata": {
        "colab": {
          "base_uri": "https://localhost:8080/"
        },
        "id": "Ztr9431yZy6b",
        "outputId": "7a37e978-805f-4744-97ad-a75465750a31"
      },
      "execution_count": null,
      "outputs": [
        {
          "output_type": "stream",
          "name": "stdout",
          "text": [
            "Determinant of A: -119.99999999999997\n",
            "Inverse of A:\n",
            "[[ 0.33333333  0.33333333  0.04166667]\n",
            " [-0.33333333 -0.33333333  0.08333333]\n",
            " [-0.13333333  0.06666667  0.08333333]]\n"
          ]
        }
      ]
    },
    {
      "cell_type": "code",
      "source": [
        "#Without numpy\n",
        "def delete_row_column(matrix, i, j):\n",
        "    rows = len(matrix)\n",
        "    columns = len(matrix[0])\n",
        "    return [[matrix[row][col] for col in range(columns) if col != j] for row in range(rows) if row != i]\n",
        "\n",
        "\n",
        "def input_square_matrix(order=None):\n",
        "    if order == None:\n",
        "        order = int(input(\"Enter the order of the square matrix: \"))\n",
        "\n",
        "    matrix = []\n",
        "    for i in range(order):\n",
        "        row = list(map(int, input(\"> \").split()))\n",
        "        assert len(row) == order, \"Number of elements entered does not match given dimensions\"\n",
        "        matrix.append(row)\n",
        "\n",
        "    return matrix\n",
        "\n",
        "\n",
        "def minor(matrix, i, j):\n",
        "    matrix = delete_row_column(matrix, i, j)\n",
        "    return det(matrix)\n",
        "\n",
        "\n",
        "def det(matrix):\n",
        "    assert len(matrix) == len(matrix[0]), \"matrix should be square\"\n",
        "    order = len(matrix)\n",
        "\n",
        "    if order == 1:\n",
        "        return matrix[0][0]\n",
        "    elif order == 2:\n",
        "        determinant = (matrix[0][0] * matrix[1][1]) - (matrix[0][1] * matrix[1][0])  # ad - bc\n",
        "        return determinant\n",
        "    else:\n",
        "        determinant = 0\n",
        "        for i in range(order):\n",
        "            coefficient = matrix[0][i]\n",
        "            if i % 2 == 1:\n",
        "                coefficient *= -1\n",
        "            determinant += coefficient * minor(matrix, 0, i)\n",
        "        return determinant\n",
        "\n",
        "\n",
        "def transpose(matrix):\n",
        "    rows = len(matrix)\n",
        "    columns = len(matrix[0])\n",
        "\n",
        "    return [[matrix[row][col] for row in range(rows)] for col in range(columns)]\n",
        "\n",
        "\n",
        "def inv(matrix):\n",
        "    assert len(matrix) == len(matrix[0]), \"matrix should be square\"\n",
        "    order = len(matrix)\n",
        "\n",
        "    determinant = det(matrix)\n",
        "    cofactors = []\n",
        "    for i in range(order):\n",
        "        cofactors_row = []\n",
        "        for j in range(order):\n",
        "            coefficient = -1 if (i % 2) ^ (j % 2) else 1\n",
        "            cofactors_row.append(coefficient * minor(matrix, i, j))\n",
        "        cofactors.append(cofactors_row)\n",
        "\n",
        "    adjugate = transpose(cofactors)\n",
        "    inverse = [[element / determinant for element in row] for row in adjugate]\n",
        "    return inverse\n",
        "print(\"Determinant =\",det(A))\n",
        "print(\"Inverse:\")\n",
        "result  = inv(A)\n",
        "for row in result:\n",
        "  print(row)"
      ],
      "metadata": {
        "colab": {
          "base_uri": "https://localhost:8080/"
        },
        "id": "MN7lJKyDdAI5",
        "outputId": "91aeff6d-ba9a-4850-faf3-1c06694ee388"
      },
      "execution_count": null,
      "outputs": [
        {
          "output_type": "stream",
          "name": "stdout",
          "text": [
            "Determinant = -120\n",
            "Inverse:\n",
            "[0.3333333333333333, 0.3333333333333333, 0.041666666666666664]\n",
            "[-0.3333333333333333, -0.3333333333333333, 0.08333333333333333]\n",
            "[-0.13333333333333333, 0.06666666666666667, 0.08333333333333333]\n"
          ]
        }
      ]
    }
  ]
}