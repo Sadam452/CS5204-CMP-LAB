{
 "cells": [
  {
   "cell_type": "markdown",
   "id": "00420bf8",
   "metadata": {},
   "source": [
    "## Q1\n",
    "You are given a string s consisting of lowercase English letters. A duplicate\n",
    "removal consists of choosing two adjacent and equal letters and removing\n",
    "them.\n",
    "We repeatedly make duplicate removals on s until we no longer can.\n",
    "Return the final string after all such duplicate removals have been made. It\n",
    "can be proven that the answer is unique.\n",
    "Eg: Input: s = abbabc\n",
    "Output = bc\n",
    "TC : O(n), SC : O(1)"
   ]
  },
  {
   "cell_type": "code",
   "execution_count": 4,
   "id": "0438e346",
   "metadata": {},
   "outputs": [
    {
     "name": "stdout",
     "output_type": "stream",
     "text": [
      "Enter any string:abbabc\n",
      "['b', 'c']\n"
     ]
    }
   ],
   "source": [
    "str = input(\"Enter any string:\")\n",
    "stack = []\n",
    "for chr in str:\n",
    "    if chr in stack:\n",
    "        stack.remove(chr)\n",
    "    else:\n",
    "        stack.append(chr)\n",
    "print(stack)"
   ]
  },
  {
   "cell_type": "markdown",
   "id": "ca53610b",
   "metadata": {},
   "source": [
    "## Q2\n",
    "We are given an array asteroid of integers representing asteroids in a row.\n",
    "For each asteroid, the absolute value represents its size, and the sign\n",
    "represents its direction (positive meaning right, negative meaning left).\n",
    "Each asteroid moves at the same speed.\n",
    "Find out the state of the asteroids after all collisions. If two asteroids meet,\n",
    "the smaller one will explode. If both are the same size, both will explode.\n",
    "Two asteroids moving in the same direction will never meet.\n",
    "Eg: Input: asteroids = [5, 10, -5]\n",
    "Output: [5,10]\n",
    "Input: [10, -10] -> []"
   ]
  },
  {
   "cell_type": "code",
   "execution_count": 7,
   "id": "bda26fa4",
   "metadata": {},
   "outputs": [
    {
     "name": "stdout",
     "output_type": "stream",
     "text": [
      "[5, 10]\n",
      "[]\n",
      "[5]\n"
     ]
    }
   ],
   "source": [
    "def asteroidCollision(asteroids):\n",
    "    stack = []\n",
    "\n",
    "    for asteroid in asteroids:\n",
    "        while stack and asteroid < 0 and stack[-1] > 0:\n",
    "            top = stack.pop()\n",
    "            if top == -asteroid:\n",
    "                break\n",
    "            elif top > -asteroid:\n",
    "                stack.append(top)\n",
    "                break\n",
    "        else:\n",
    "            stack.append(asteroid)\n",
    "\n",
    "    return stack\n",
    "\n",
    "# Test cases\n",
    "print(asteroidCollision([5, 10, -5]))\n",
    "print(asteroidCollision([10, -10]))\n",
    "print(asteroidCollision([5, 10, 6, -10]))\n"
   ]
  },
  {
   "cell_type": "markdown",
   "id": "332f91ca",
   "metadata": {},
   "source": [
    "## Q3.\n",
    "You are given an array of integers nums, there is a sliding window of size k\n",
    "which is moving from the very left of the array to the very right. You can only see\n",
    "the k numbers in the window. Each time the sliding window moves right by one\n",
    "position.\n",
    "Return the max sliding window.\n",
    "i/p [10, -1, 2, 5, 15, -4, 3, 7, 9]\n",
    "k=3\n",
    "Output : 22, Try to do it In O(n).\n"
   ]
  },
  {
   "cell_type": "code",
   "execution_count": 14,
   "id": "75f81534",
   "metadata": {},
   "outputs": [
    {
     "name": "stdout",
     "output_type": "stream",
     "text": [
      "22\n"
     ]
    }
   ],
   "source": [
    "def maxWindow(array):\n",
    "    max = 0\n",
    "    for i in range(0, len(array)-2):\n",
    "        sum = array[i] + array[i+1] + array[i+2]\n",
    "        if sum > max:\n",
    "            max = sum\n",
    "    return max\n",
    "\n",
    "#test cases\n",
    "print(maxWindow([10, -1, 2, 5, 15, -4, 3, 7, 9]))"
   ]
  },
  {
   "cell_type": "markdown",
   "id": "9d8c08cf",
   "metadata": {},
   "source": [
    "## Q4.\n",
    "You are given the head of a linked list. Delete the middle node, and return\n",
    "the head of the modified linked list.\n",
    "The middle node of a linked list of size n is the ⌊n / 2⌋th node from the start\n",
    "using 0-based indexing, where ⌊x⌋ denotes the largest integer less than or\n",
    "equal to x."
   ]
  },
  {
   "cell_type": "code",
   "execution_count": 19,
   "id": "5a9dda4f",
   "metadata": {},
   "outputs": [
    {
     "name": "stdout",
     "output_type": "stream",
     "text": [
      "Given Linked List\n",
      "10=>20=>30=>40=>50=>Null\n",
      "Linked List after deleting the middle element is:\n",
      "10=>20=>40=>50=>Null\n"
     ]
    }
   ],
   "source": [
    "class Node:   \n",
    "    def __init__(self):    \n",
    "        self.data = 0\n",
    "        self.next = None\n",
    "        \n",
    "#countNodes returns no of nodes in linked list\n",
    "def countNodes(head):\n",
    "    count = 0\n",
    "    while(head!=None):\n",
    "        head = head.next\n",
    "        count += 1\n",
    "    return count\n",
    "\n",
    "#deletes middle element\n",
    "def deleteMid(head):\n",
    "    temp = head\n",
    "    count = countNodes(head)\n",
    "    count = count//2\n",
    "    while(count != 1):\n",
    "        head = head.next\n",
    "        count -= 1\n",
    "    head.next = head.next.next\n",
    "    return temp\n",
    "\n",
    "#prints linked list\n",
    "def printList(head):\n",
    "    while(head != None):\n",
    "        print(head.data,end=\"=>\")\n",
    "        head = head.next\n",
    "    print(\"Null\")\n",
    "\n",
    "#function to create new node\n",
    "def newNode(data):\n",
    "    node = Node()\n",
    "    node.data = data\n",
    "    node.next = None\n",
    "    return node\n",
    "\n",
    "if __name__=='__main__':\n",
    "      \n",
    "    # add few dummy nodes\n",
    "    head = newNode(10)\n",
    "    head.next = newNode(20)\n",
    "    head.next.next = newNode(30)\n",
    "    head.next.next.next = newNode(40)\n",
    "    head.next.next.next.next = newNode(50)\n",
    "   \n",
    "    print(\"Given Linked List\")\n",
    "    printList(head)\n",
    "   \n",
    "    head = deleteMid(head)\n",
    "   \n",
    "    print(\"Linked List after deleting the middle element is:\")\n",
    "    printList(head)\n"
   ]
  },
  {
   "cell_type": "markdown",
   "id": "7dcd49d2",
   "metadata": {},
   "source": [
    "## Q5.\n",
    "Given a matrix of dimension m*n where each cell in the matrix can have\n",
    "values 0, 1 or 2 which has the following meaning:\n",
    "0: Empty cell\n",
    "1: Cells have healthy person\n",
    "2: Cells have infected person\n",
    "Determine what is the minimum time required so that every person is\n",
    "infected. An infected person at index [I , j] can infect other healthy person\n",
    "at indexes [i-1,j], [i+1,j], [i,j-1], [i,j+1] (up, down, left and right). If it is\n",
    "impossible to infect every person then simply return -1.\n",
    "Test Cases:\n",
    "[[2,1,1], [1,1,0], [0,1,1]], output -> 4\n",
    "[[2,1,1], [0,1,1], [1,0,1]], output-> -1\n",
    "[[0,2]] output -> 0"
   ]
  },
  {
   "cell_type": "code",
   "execution_count": 7,
   "id": "306f0259",
   "metadata": {},
   "outputs": [
    {
     "name": "stdout",
     "output_type": "stream",
     "text": [
      "4\n",
      "-1\n",
      "0\n"
     ]
    }
   ],
   "source": [
    "def minTimeToInfect(m):\n",
    "    one , flag, count = 1, 0, 0\n",
    "    rows, cols = len(m), len(m[0])\n",
    "    for i in range(0, rows):\n",
    "        for j in range(0, cols):\n",
    "            if m[i][j] == 2:\n",
    "                if i != 0 and m[i-1][j] % 2 != 0:\n",
    "                    m[i-1] = 2\n",
    "                    flag = 1\n",
    "                if i != rows-1 and m[i+1][j] % 2 != 0:\n",
    "                    m[i+1][j] = 2\n",
    "                    flag = 1\n",
    "                if j != 0 and m[i][j-1] % 2 != 0:\n",
    "                    m[i][j-1] = 2\n",
    "                    flag = 1\n",
    "                if j != cols-1 and m[i][j+1] % 2 != 0:\n",
    "                    m[i][j+1] = 2\n",
    "                    flag = 1\n",
    "                if flag == 1:\n",
    "                    count += 1\n",
    "                    flag = 0\n",
    "    for item in m:\n",
    "        if one in item:\n",
    "            return -1\n",
    "    return count\n",
    "                    \n",
    "\n",
    "# Test cases\n",
    "print(minTimeToInfect([[2, 1, 1], [1, 1, 0], [0, 1, 1]]))  # Output: 4\n",
    "print(minTimeToInfect([[2, 1, 1], [0, 1, 1], [1, 0, 1]]))  # Output: -1\n",
    "print(minTimeToInfect([[0, 2]]))  # Output: 0\n"
   ]
  },
  {
   "cell_type": "markdown",
   "id": "c66f3bac",
   "metadata": {},
   "source": [
    "## Q6.\n",
    "Given head of a singly-linked list. The value of each node in the linked list is\n",
    "either 0 or 1. The linked list holds the binary representation of a number.\n",
    "Return the decimal value of the number in the linked list.\n",
    "The most significant bit is at the head of the linked list.\n",
    "Eg: Input: 0 -> 1 -> 1\n",
    "Output: 3"
   ]
  },
  {
   "cell_type": "code",
   "execution_count": 41,
   "id": "a3cbcb16",
   "metadata": {},
   "outputs": [
    {
     "name": "stdout",
     "output_type": "stream",
     "text": [
      "Given Linked List\n",
      "0=>1=>1=>Null\n",
      "Decimal representation =  3\n"
     ]
    }
   ],
   "source": [
    "class Node:   \n",
    "    def __init__(self):    \n",
    "        self.data = 0\n",
    "        self.next = None\n",
    "        \n",
    "#countNodes returns no of nodes in linked list\n",
    "def countNodes(head):\n",
    "    count = 0\n",
    "    while(head!=None):\n",
    "        head = head.next\n",
    "        count += 1\n",
    "    return count\n",
    "\n",
    "#calculate decimal from binary\n",
    "def printDec(head):\n",
    "    count = countNodes(head)\n",
    "    count -= 1\n",
    "    num = 0\n",
    "    while head != None:\n",
    "        num += (2**count) * head.data\n",
    "        head = head.next\n",
    "        count -= 1\n",
    "    return num\n",
    "\n",
    "\n",
    "\n",
    "#function to create new node\n",
    "def newNode(data):\n",
    "    node = Node()\n",
    "    node.data = data\n",
    "    node.next = None\n",
    "    return node\n",
    "\n",
    "if __name__=='__main__':\n",
    "      \n",
    "    # add few dummy nodes\n",
    "    head = newNode(0)\n",
    "    head.next = newNode(1)\n",
    "    head.next.next = newNode(1)\n",
    "   \n",
    "    print(\"Given Linked List\")\n",
    "    printList(head)\n",
    "\n",
    "    print(\"Decimal representation = \",printDec(head))\n"
   ]
  },
  {
   "cell_type": "markdown",
   "id": "ccc7a646",
   "metadata": {},
   "source": [
    "## Q7.\n",
    "The school cafeteria offers circular and square sandwiches at lunch break,\n",
    "referred to by numbers 0 and 1 respectively. All students stand in a queue. S\n",
    "The number of sandwiches in the cafeteria is equal to the number of students.\n",
    "The sandwiches are placed in a stack. At each step:\n",
    "\n",
    "If the student at the front of the queue prefers the sandwich on the top of the\n",
    "stack, they will take it and leave the queue.\n",
    "Otherwise, they will leave it and go to the queue's end.\n",
    "This continues until none of the queue students want to take the top sandwich\n",
    "and are thus unable to eat.\n",
    "You are given two integer arrays students and sandwiches where sandwiches[i] is\n",
    "the type of the ith sandwich in the stack (i = 0 is the top of the stack) and\n",
    "students[j] is the preference of the jth student in the initial queue (j = 0 is the\n",
    "front of the queue). Return the number of students that are unable to eat."
   ]
  },
  {
   "cell_type": "code",
   "execution_count": 52,
   "id": "f7cf7f15",
   "metadata": {},
   "outputs": [
    {
     "name": "stdout",
     "output_type": "stream",
     "text": [
      "0\n",
      "0\n",
      "2\n",
      "3\n"
     ]
    }
   ],
   "source": [
    "def countStudents(students, sandwiches):\n",
    "    #reverse the sandwiches so that we will take last element as top of stack\n",
    "    sandwiches = list(reversed(sandwiches))\n",
    "    flag = 0\n",
    "    len_stu = len(students)\n",
    "    count, i = 0, 0\n",
    "    init_len = len(students)\n",
    "    for student in students:\n",
    "        i += 1\n",
    "        #print(i,sandwiches[-1],student,len_stu)\n",
    "        if sandwiches[-1] == student:\n",
    "            sandwiches.pop()\n",
    "            flag = 1\n",
    "        else:\n",
    "            students.append(student)\n",
    "            #print(\"appended i=\",student,i)\n",
    "        if i == len_stu:\n",
    "            #print(\"hi\",i,len_stu,len(students),students)\n",
    "\n",
    "            len_stu = len(students) - init_len\n",
    "            init_len = len(students)\n",
    "            i = 0\n",
    "            if flag == 1:\n",
    "                flag = 0\n",
    "            else:\n",
    "                #print(students)\n",
    "                return len_stu\n",
    "            if len_stu == 0:\n",
    "                return 0\n",
    "                    \n",
    "\n",
    "# Test cases\n",
    "print(countStudents([1,0,1,0], [0,1,0,1]))  # Output: 0\n",
    "print(countStudents([1,1,0,0], [0,1,0,1]))  # Output: 0\n",
    "print(countStudents([1,1,1,0], [0,1,0,1]))  # Output: 2\n",
    "print(countStudents([1,0,1,1,0,0,1,1], [0,1,0,0,1,0,0,1]))  # Output: 3\n"
   ]
  },
  {
   "cell_type": "markdown",
   "id": "96fa641d",
   "metadata": {},
   "source": [
    "## Q8.\n",
    "On day 1, one person discovers a secret.\n",
    "You are given an integer delay, which means that each person will share the\n",
    "secret with a new person every day, starting from delay days after discovering the\n",
    "secret. You are also given an integer forget, which means that each person will\n",
    "forget the secret forget days after discovering it. A person cannot share the secret\n",
    "on the same day they forgot it, or on any day afterwards.\n",
    "Given an integer n, return the number of people who know the secret at the end\n",
    "of day n. Since the answer may be very large, return it modulo 109 + 7"
   ]
  },
  {
   "cell_type": "code",
   "execution_count": 60,
   "id": "4a918e68",
   "metadata": {},
   "outputs": [
    {
     "name": "stdout",
     "output_type": "stream",
     "text": [
      "5\n",
      "6\n"
     ]
    }
   ],
   "source": [
    "import collections as ctn\n",
    "\n",
    "class Solution:\n",
    "    def peopleAware(self, n: int, delay: int, forget: int) -> int:\n",
    "        M = 10 ** 9 + 7\n",
    "        res = 1\n",
    "\n",
    "        canShare = ctn.defaultdict(int)\n",
    "\n",
    "        toForget = ctn.defaultdict(int)\n",
    "        toForget[forget + 1] = 1\n",
    "\n",
    "        propagate = 1\n",
    "        \n",
    "        for day in range(delay + 1, n + 1):\n",
    "            propagate += canShare[day]    \n",
    "            propagate -= toForget[day]\n",
    "            \n",
    "            res += propagate\n",
    "            res -= toForget[day]\n",
    "            res %= M\n",
    "\n",
    "            canShare[day + delay] += propagate\n",
    "            toForget[day + forget] += propagate\n",
    "\n",
    "        return res % M\n",
    "\n",
    "#test cases\n",
    "solution = Solution()\n",
    "print(solution.peopleAware(6, 2, 4))\n",
    "print(solution.peopleAware(4, 1, 3))\n",
    "  \n",
    "#print(peopleAware(4, 1 ,3))"
   ]
  }
 ],
 "metadata": {
  "kernelspec": {
   "display_name": "Python 3 (ipykernel)",
   "language": "python",
   "name": "python3"
  },
  "language_info": {
   "codemirror_mode": {
    "name": "ipython",
    "version": 3
   },
   "file_extension": ".py",
   "mimetype": "text/x-python",
   "name": "python",
   "nbconvert_exporter": "python",
   "pygments_lexer": "ipython3",
   "version": "3.11.4"
  }
 },
 "nbformat": 4,
 "nbformat_minor": 5
}
