{
  "nbformat": 4,
  "nbformat_minor": 0,
  "metadata": {
    "colab": {
      "provenance": []
    },
    "kernelspec": {
      "name": "python3",
      "display_name": "Python 3"
    },
    "language_info": {
      "name": "python"
    }
  },
  "cells": [
    {
      "cell_type": "markdown",
      "source": [
        "# Q1"
      ],
      "metadata": {
        "id": "F2h38QekV6Wj"
      }
    },
    {
      "cell_type": "markdown",
      "source": [
        "1. Next Smaller Element\n",
        "i/p : {2,1,5,6,2,3}\n",
        "o/p: {1,6,4,4,6,6}"
      ],
      "metadata": {
        "id": "o2B6DglOhvbd"
      }
    },
    {
      "cell_type": "code",
      "source": [
        "input = [2,1,5,6,2,3]\n",
        "for i in range(0, len(input)):\n",
        "  flag = 0\n",
        "  for j in range(i+1, len(input)):\n",
        "    if input[j] < input[i]:\n",
        "      flag = j\n",
        "      break\n",
        "  print(len(input)) if flag == 0 else print(flag)"
      ],
      "metadata": {
        "colab": {
          "base_uri": "https://localhost:8080/"
        },
        "id": "nob74Z0dhzCk",
        "outputId": "68d33add-2c44-4599-83c4-0f1f2fdbf1d9"
      },
      "execution_count": null,
      "outputs": [
        {
          "output_type": "stream",
          "name": "stdout",
          "text": [
            "1\n",
            "6\n",
            "4\n",
            "4\n",
            "6\n",
            "6\n"
          ]
        }
      ]
    },
    {
      "cell_type": "markdown",
      "source": [
        "2. Previous Smaller Element\n",
        "i/p: {2 , 1, 5, 6, 2, 3}\n",
        "o/p: {-1,-1,1,2, 1, 4}"
      ],
      "metadata": {
        "id": "TpWthAgslxpI"
      }
    },
    {
      "cell_type": "code",
      "source": [
        "input = [2,1,5,6,2,3]\n",
        "for i in range(0, len(input)):\n",
        "  flag = 0\n",
        "  for j in range(i-1, -1, -1):\n",
        "    if input[j] < input[i]:\n",
        "      flag = j\n",
        "      break\n",
        "  print(-1) if flag == 0 else print(flag)"
      ],
      "metadata": {
        "colab": {
          "base_uri": "https://localhost:8080/"
        },
        "id": "rXk_nbYjl0Lf",
        "outputId": "ee70cf78-6c80-40c2-92c2-a9264d27fa83"
      },
      "execution_count": null,
      "outputs": [
        {
          "output_type": "stream",
          "name": "stdout",
          "text": [
            "-1\n",
            "-1\n",
            "1\n",
            "2\n",
            "1\n",
            "4\n"
          ]
        }
      ]
    },
    {
      "cell_type": "markdown",
      "source": [
        "3.\n",
        "Largest Area in Histogram\n",
        "i/p: {2,1,5,6,2,3} -- This inputs represents heights of each bar.\n",
        "o/p: 10"
      ],
      "metadata": {
        "id": "b3yM344kmMW3"
      }
    },
    {
      "cell_type": "code",
      "source": [
        "input = [2,1,5,6,2,3]\n",
        "stack = []\n",
        "max_area, i = 0, 0\n",
        "while i < len(input):\n",
        "  if not stack or input[stack[-1]] <= input[i]:\n",
        "    stack.append(i)\n",
        "    i += 1\n",
        "  else:\n",
        "    elm = stack.pop()\n",
        "    area = input[elm]*((i - stack[-1] -1) if stack else i)\n",
        "    max_area = max(max_area, area)\n",
        "\n",
        "while len(stack) != 0:\n",
        "  elm = stack.pop()\n",
        "  area = input[elm]*((i - stack[-1] -1) if stack else i)\n",
        "  max_area = max(max_area, area)\n",
        "print(max_area)\n",
        "\n"
      ],
      "metadata": {
        "colab": {
          "base_uri": "https://localhost:8080/"
        },
        "id": "IwnwZHwCmP5s",
        "outputId": "7bdf511e-ac9c-4bf2-c602-984ccc6e31ed"
      },
      "execution_count": null,
      "outputs": [
        {
          "output_type": "stream",
          "name": "stdout",
          "text": [
            "10\n"
          ]
        }
      ]
    },
    {
      "cell_type": "markdown",
      "source": [
        "# Q. 2 Trapping Rain water:"
      ],
      "metadata": {
        "id": "rOCI3c3zAHoL"
      }
    },
    {
      "cell_type": "code",
      "source": [
        "def trap(height):\n",
        "    n = len(height)\n",
        "\n",
        "    if n <= 2:\n",
        "        return 0  # Not enough bars to trap water\n",
        "\n",
        "    left_max = [0] * n\n",
        "    right_max = [0] * n\n",
        "\n",
        "    # Calculate the maximum height from the left for each bar\n",
        "    left_max[0] = height[0]\n",
        "    for i in range(1, n):\n",
        "        left_max[i] = max(left_max[i - 1], height[i])\n",
        "\n",
        "    # Calculate the maximum height from the right for each bar\n",
        "    right_max[n - 1] = height[n - 1]\n",
        "    for i in range(n - 2, -1, -1):\n",
        "        right_max[i] = max(right_max[i + 1], height[i])\n",
        "\n",
        "    trapped_water = 0\n",
        "\n",
        "    # Calculate the trapped water for each bar\n",
        "    for i in range(n):\n",
        "        trapped_water += min(left_max[i], right_max[i]) - height[i]\n",
        "\n",
        "    return trapped_water\n",
        "\n",
        "# Test cases\n",
        "height1 = [0, 1, 0, 2, 1, 0, 1, 3, 2, 1, 2, 1]\n",
        "print(trap(height1))  # Output: 6\n",
        "\n",
        "height2 = [4, 2, 0, 3, 2, 5]\n",
        "print(trap(height2))  # Output: 9\n"
      ],
      "metadata": {
        "id": "sko7dpQDwmn9",
        "colab": {
          "base_uri": "https://localhost:8080/"
        },
        "outputId": "5528bcd1-fbf5-4636-bbe8-9dfa7e05455b"
      },
      "execution_count": null,
      "outputs": [
        {
          "output_type": "stream",
          "name": "stdout",
          "text": [
            "6\n",
            "9\n"
          ]
        }
      ]
    },
    {
      "cell_type": "markdown",
      "source": [
        "## Q3. Tree Binary Tree leaves to Linked List."
      ],
      "metadata": {
        "id": "4Xzq1XhbwnLR"
      }
    },
    {
      "cell_type": "code",
      "source": [
        "class Node:\n",
        "  def __init__(self):\n",
        "    self.left = None\n",
        "    self.data = 0\n",
        "    self.right = None\n",
        "class linkedList:\n",
        "  def __init__(self):\n",
        "    self.data = 0\n",
        "    self.next = None\n",
        "#create node\n",
        "def createNode(data):\n",
        "  node = Node()\n",
        "  node.left = None\n",
        "  node.right = None\n",
        "  node.data = data\n",
        "  return node\n",
        "\n",
        "#listNode\n",
        "class ListNode:\n",
        "    def __init__(self, data):\n",
        "        self.data = data\n",
        "        self.next = None\n",
        "\n",
        "def createLeafLinkedList(root):\n",
        "    def dfs(node):\n",
        "        if node is None:\n",
        "            return None\n",
        "\n",
        "        if node.left is None and node.right is None:\n",
        "            return ListNode(node.data)\n",
        "\n",
        "        left_list = dfs(node.left)\n",
        "        right_list = dfs(node.right)\n",
        "\n",
        "        if left_list is None:\n",
        "            return right_list\n",
        "        if right_list is None:\n",
        "            return left_list\n",
        "\n",
        "        # Merge the linked lists\n",
        "        current = left_list\n",
        "        while current.next:\n",
        "            current = current.next\n",
        "        current.next = right_list\n",
        "\n",
        "        return left_list\n",
        "\n",
        "    return dfs(root)\n",
        "# Helper function to print a linked list\n",
        "def printLinkedList(head):\n",
        "    current = head\n",
        "    while current:\n",
        "        print(current.data, end=\" -> \")\n",
        "        current = current.next\n",
        "    print(\"None\")\n",
        "if __name__ == '__main__':\n",
        "  head = createNode(1)\n",
        "  head.left = createNode(2)\n",
        "  head.right = createNode(3)\n",
        "\n",
        "  head.left.left = createNode(4)\n",
        "  head.left.right = createNode(5)\n",
        "  head.right.left = createNode(6)\n",
        "  head.right.right = createNode(7)\n",
        "\n",
        "\n",
        "  leaf_linked_list = createLeafLinkedList(head)\n",
        "  printLinkedList(leaf_linked_list)\n",
        "\n"
      ],
      "metadata": {
        "colab": {
          "base_uri": "https://localhost:8080/"
        },
        "id": "qwZcbIC5wsMK",
        "outputId": "dfcf8cd7-0d28-47ea-9f5e-6103261fadea"
      },
      "execution_count": null,
      "outputs": [
        {
          "output_type": "stream",
          "name": "stdout",
          "text": [
            "4 -> 5 -> 6 -> 7 -> None\n"
          ]
        }
      ]
    },
    {
      "cell_type": "markdown",
      "source": [
        "## 4. Delete the nth node from the end of the Linked List\n",
        "Detect loop in a link list, find the length of loop in LL and then delete the loop (if it exists)"
      ],
      "metadata": {
        "id": "EjST6wQ1zuGl"
      }
    },
    {
      "cell_type": "code",
      "source": [
        "class Node:\n",
        "  def __init__(self):\n",
        "    self.data = 0\n",
        "    self.next = None\n",
        "\n",
        "#create node\n",
        "def createNode(data):\n",
        "  node = Node()\n",
        "  node.next = None\n",
        "  node.data = data\n",
        "  return node\n",
        "\n",
        "#code to print linked list\n",
        "def printLL(head):\n",
        "  count = 0\n",
        "  while head != None:\n",
        "    print(head.data,end=\"->\")\n",
        "    head = head.next\n",
        "    count += 1\n",
        "  return count\n",
        "\n",
        "#Function to delete Nth node from right side\n",
        "def deleteNth(link, n):\n",
        "  ind = 1\n",
        "  #print(head.data,n)\n",
        "  while ind != n:\n",
        "    link = link.next\n",
        "    ind += 1\n",
        "  link.next = link.next.next\n",
        "# Function to remove loop\n",
        "# loop_node --> pointer to one of the loop nodes\n",
        "def removeLoop(head, loop_node):\n",
        "    ptr1 = loop_node\n",
        "    ptr2 = loop_node\n",
        "\n",
        "    # Count the number of nodes in loop\n",
        "    k = 1\n",
        "    while(ptr1.next != ptr2):\n",
        "        ptr1 = ptr1.next\n",
        "        k += 1\n",
        "\n",
        "    # Fix one pointer to head\n",
        "    ptr1 = head\n",
        "\n",
        "    # And the other pointer to k nodes after head\n",
        "    ptr2 = head\n",
        "    for i in range(k):\n",
        "        ptr2 = ptr2.next\n",
        "\n",
        "    # Move both pointers at the same place\n",
        "    # they will meet at loop starting node\n",
        "    while(ptr2 != ptr1):\n",
        "        ptr1 = ptr1.next\n",
        "        ptr2 = ptr2.next\n",
        "\n",
        "    # Get pointer to the last node\n",
        "    while(ptr2.next != ptr1):\n",
        "        ptr2 = ptr2.next\n",
        "\n",
        "    # Set the next node of the loop ending node\n",
        "    # to fix the loop\n",
        "    ptr2.next = None\n",
        "\n",
        "#detect loop\n",
        "def detectAndRemoveLoop(head):\n",
        "        slow = fast = head\n",
        "        while(slow and fast and fast.next):\n",
        "            slow = slow.next\n",
        "            fast = fast.next.next\n",
        "\n",
        "            # there is a loop\n",
        "            if slow == fast:\n",
        "                removeLoop(head, slow)\n",
        "\n",
        "                # Return 1 to indicate that loop is found\n",
        "                return 1\n",
        "\n",
        "        # Return 0 to indicate that there is no loop\n",
        "        return 0\n",
        "\n",
        "if __name__ == '__main__':\n",
        "  head = createNode(1)\n",
        "  head.next = createNode(2)\n",
        "  head.next.next = createNode(3)\n",
        "\n",
        "  head.next.next.next = createNode(4)\n",
        "  head.next.next.next.next = createNode(5)\n",
        "  head.next.next.next.next.next = createNode(6)\n",
        "\n",
        "  #call functin to print leaf nodes\n",
        "  print(\"No loop found\") if detectAndRemoveLoop(head) == 0 else print(\"Loop detected\")\n",
        "  count = printLL(head)\n",
        "  print(\"Null\")\n",
        "\n",
        "  #now delete nth node frm end  of linked list.\n",
        "  # example n =2 so we are gonna delete 2nd element from right side\n",
        "  n = 2\n",
        "  deleteNth(head, count-n)\n",
        "  printLL(head)\n",
        "  print(\"Null\")\n",
        "\n",
        "\n",
        "\n"
      ],
      "metadata": {
        "colab": {
          "base_uri": "https://localhost:8080/"
        },
        "id": "FmLpPwDsz05Z",
        "outputId": "07af74b3-29e0-4008-f6ad-5c15aa1154ab"
      },
      "execution_count": null,
      "outputs": [
        {
          "output_type": "stream",
          "name": "stdout",
          "text": [
            "No loop found\n",
            "1->2->3->4->5->6->Null\n",
            "1->2->3->4->6->Null\n"
          ]
        }
      ]
    },
    {
      "cell_type": "markdown",
      "source": [
        "# Q5 Minimum cost to wrap word"
      ],
      "metadata": {
        "id": "JUcyetdTSvUl"
      }
    },
    {
      "cell_type": "code",
      "source": [
        "def minCostToWrapWords(nums, k):\n",
        "    n = len(nums)\n",
        "\n",
        "    # Calculate the extra spaces for each possible combination of words\n",
        "    extra_spaces = [[0] * n for _ in range(n)]\n",
        "    for i in range(n):\n",
        "        extra_spaces[i][i] = k - nums[i]\n",
        "        for j in range(i + 1, n):\n",
        "            extra_spaces[i][j] = extra_spaces[i][j - 1] - nums[j] - 1\n",
        "\n",
        "    # Calculate the cost for each line\n",
        "    cost = [[0] * n for _ in range(n)]\n",
        "    for i in range(n):\n",
        "        for j in range(i, n):\n",
        "            if extra_spaces[i][j] < 0:\n",
        "                cost[i][j] = float('inf')  # Invalid configuration\n",
        "            elif j == n - 1:\n",
        "                cost[i][j] = 0  # Last line has no extra spaces\n",
        "            else:\n",
        "                cost[i][j] = extra_spaces[i][j] ** 2\n",
        "\n",
        "    # Calculate the minimum cost using dynamic programming\n",
        "    min_cost = [0] * n\n",
        "    breaks = [0] * n\n",
        "\n",
        "    for i in range(n - 1, -1, -1):\n",
        "        min_cost[i] = cost[i][n - 1]\n",
        "        breaks[i] = n\n",
        "        for j in range(n - 1, i, -1):\n",
        "            if cost[i][j - 1] == float('inf'):\n",
        "                continue\n",
        "            if min_cost[i] > min_cost[j] + cost[i][j - 1]:\n",
        "                min_cost[i] = min_cost[j] + cost[i][j - 1]\n",
        "                breaks[i] = j\n",
        "\n",
        "    return min_cost[0]\n",
        "\n",
        "\n",
        "# Test cases\n",
        "print(minCostToWrapWords([3, 2, 2, 5], 6))  # Output: 10\n",
        "print(minCostToWrapWords([3, 2, 2], 4))  # Output: 5\n"
      ],
      "metadata": {
        "colab": {
          "base_uri": "https://localhost:8080/"
        },
        "id": "y69lYLAvSz41",
        "outputId": "d0ba2c04-86b6-4696-d337-b92bf39a4c76"
      },
      "execution_count": null,
      "outputs": [
        {
          "output_type": "stream",
          "name": "stdout",
          "text": [
            "10\n",
            "5\n"
          ]
        }
      ]
    },
    {
      "cell_type": "markdown",
      "source": [
        "Q6. Maximizing a number\n",
        "Complete the function: MaximizingNumber(arr[], n, rep[], m)"
      ],
      "metadata": {
        "id": "FMskNH5Z9oX6"
      }
    },
    {
      "cell_type": "code",
      "source": [
        "def MaximizingNumber(arr, n, rep, m):\n",
        "  rep_s = sorted(rep)\n",
        "  for i in range(0, n):\n",
        "    ele = rep_s.pop()\n",
        "    if arr[i] < ele:\n",
        "      arr[i] = ele\n",
        "    else:\n",
        "      rep_s.append(ele)\n",
        "  return arr\n",
        "#test cases\n",
        "print(MaximizingNumber([1,0,2,4,5], 5, [1,9,6], 3))\n",
        "print(MaximizingNumber([3,0,7,8,2,3],6, [6,1,9,9],4))"
      ],
      "metadata": {
        "colab": {
          "base_uri": "https://localhost:8080/"
        },
        "id": "JhP44TYG-FMu",
        "outputId": "6d333feb-f26f-4270-aeb2-d7444e87e066"
      },
      "execution_count": null,
      "outputs": [
        {
          "output_type": "stream",
          "name": "stdout",
          "text": [
            "[9, 6, 2, 4, 5]\n",
            "[9, 9, 7, 8, 6, 3]\n"
          ]
        }
      ]
    }
  ]
}