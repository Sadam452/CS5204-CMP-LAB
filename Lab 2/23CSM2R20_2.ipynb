{
 "cells": [
  {
   "cell_type": "markdown",
   "metadata": {
    "id": "sWgxMhVBdZuZ"
   },
   "source": [
    "### **ROLL NO: 23CSM2R20**\n",
    "### CMP: LAB2 || 18-09-2023"
   ]
  },
  {
   "cell_type": "markdown",
   "metadata": {
    "id": "mHoT4_lSdr4R"
   },
   "source": [
    "Q1. Given a matrix of dimension m*n where each cell in the matrix can have values 0, 1 or 2\n",
    "which has the following meaning:\n",
    "0: Empty cell\n",
    "1: Cells have healthy person\n",
    "2: Cells have infected person\n",
    "Determine what is the minimum time required so that every person is infected. An infected person at\n",
    "index [i, j] can infect other healthy person at indexes [i-1,j], [i+1,j], [i,j-1], [i,j+1] (up, down, left and\n",
    "right). If it is impossible to infect every person then simply return -1.\n",
    "Test Cases:\n",
    "1. [[2,1,1], [1,1,0], [0,1,1]] output = 4\n",
    "2. [[2,1,1], [0,1,1], [1,0,1]] output = 1\n",
    "3. [[0,2]] output = 0"
   ]
  },
  {
   "cell_type": "code",
   "execution_count": 1,
   "metadata": {
    "colab": {
     "base_uri": "https://localhost:8080/"
    },
    "id": "JPiNvmP3dp8J",
    "outputId": "570e5364-3381-413b-aef9-f6c7d6e330fe"
   },
   "outputs": [
    {
     "name": "stdout",
     "output_type": "stream",
     "text": [
      "4\n",
      "-1\n",
      "0\n"
     ]
    }
   ],
   "source": [
    "def minTimeToInfect(m):\n",
    "  one , flag, count = 1, 0, 0\n",
    "  rows, cols = len(m), len(m[0])\n",
    "  for i in range(0, rows):\n",
    "    for j in range(0, cols):\n",
    "      if m[i][j] == 2:\n",
    "        if i != 0 and m[i-1][j] % 2 != 0:\n",
    "           m[i-1] = 2\n",
    "           flag = 1\n",
    "        if i != rows-1 and m[i+1][j] % 2 != 0:\n",
    "           m[i+1][j] = 2\n",
    "           flag = 1\n",
    "        if j != 0 and m[i][j-1]%2!=0:\n",
    "          m[i][j-1] = 2\n",
    "          flag = 1\n",
    "        if j != cols-1 and m[i][j+1] % 2 != 0:\n",
    "          m[i][j+1] = 2\n",
    "          flag = 1\n",
    "        if flag == 1:\n",
    "          count += 1\n",
    "          flag = 0\n",
    "  for item in m:\n",
    "    if one in item:\n",
    "      return -1\n",
    "  return count\n",
    "# Test cases\n",
    "print(minTimeToInfect([[2, 1, 1], [1, 1, 0], [0, 1, 1]]))# Output: 4\n",
    "print (minTimeToInfect([[2, 1, 1],[0, 1, 1], [1, 0, 1]]))# Output: -1\n",
    "print(minTimeToInfect([[0, 2]])) # Output: 0"
   ]
  },
  {
   "cell_type": "markdown",
   "metadata": {
    "id": "8zK2UbdYfjwE"
   },
   "source": [
    "Q2. Sort Linked List\n",
    "i/p: -2 -> 10 -> 7 -> 5 -> -1 -> 2\n",
    "Constraint: TC= O(NlogN), SC = O(1)"
   ]
  },
  {
   "cell_type": "code",
   "execution_count": 1,
   "metadata": {
    "colab": {
     "base_uri": "https://localhost:8080/"
    },
    "id": "3veQ7vbIfpXt",
    "outputId": "67a13582-7a00-43e5-d8b8-c75b965f4a41"
   },
   "outputs": [
    {
     "name": "stdout",
     "output_type": "stream",
     "text": [
      "Given linked list is: \n",
      "-2->10->7->5->1->2->Null\n",
      "Sorted linked list is: \n",
      "-2->1->2->5->7->10->Null\n"
     ]
    }
   ],
   "source": [
    "class Node:\n",
    "  def __init__(self):\n",
    "    self.data = 0\n",
    "    self.next = None\n",
    "\n",
    "def addNode(data):\n",
    "  node =Node()\n",
    "  node.data = data\n",
    "  node.next = None\n",
    "  return node\n",
    "\n",
    "def selectionSort(head):\n",
    "    temp = head\n",
    "    # Traverse the List\n",
    "    while (temp):\n",
    "        minn = temp\n",
    "        next = temp.next\n",
    "        # Traverse the unsorted sublist\n",
    "        while (next):\n",
    "            if (minn.data > next.data):\n",
    "                minn = next\n",
    "            next = next.next\n",
    "        # Swap Data\n",
    "        x = temp.data\n",
    "        temp.data = minn.data\n",
    "        minn.data = x\n",
    "        temp = temp.next\n",
    "\n",
    "def printLinkedlist(head):\n",
    "  while head != None:\n",
    "    print(head.data, end=\"->\")\n",
    "    head = head.next\n",
    "  print(\"Null\")\n",
    "if __name__ == '__main__':\n",
    "  head = addNode(-2)\n",
    "  head.next = addNode(10)\n",
    "  head.next.next = addNode(7)\n",
    "  head.next.next.next = addNode(5)\n",
    "  head.next.next.next.next = addNode(1)\n",
    "  head.next.next.next.next.next= addNode(2)\n",
    "  print(\"Given linked list is: \")\n",
    "  printLinkedlist(head)\n",
    "  selectionSort(head)\n",
    "  print(\"Sorted linked list is: \")\n",
    "  printLinkedlist(head)\n"
   ]
  },
  {
   "cell_type": "markdown",
   "metadata": {
    "id": "KeooIyfDp0Rd"
   },
   "source": [
    "Q3. Create following Binary Tree from scratch. And print it using levelOrderTraversal.![lab2](data:application/octet-stream;base64,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)"
   ]
  },
  {
   "cell_type": "code",
   "execution_count": 12,
   "metadata": {
    "colab": {
     "base_uri": "https://localhost:8080/"
    },
    "id": "8OFzaDs6qVbt",
    "outputId": "f10a581d-71ef-4a1f-a8c8-19838f1fc656"
   },
   "outputs": [
    {
     "name": "stdout",
     "output_type": "stream",
     "text": [
      "[1]\n",
      "[2, 3]\n",
      "[4, 5, 6, 7]\n",
      "[8, 9, 10]\n"
     ]
    }
   ],
   "source": [
    "class Tree:\n",
    "    def __init__(self):\n",
    "        self.data = 0\n",
    "        self.left = None\n",
    "        self.right = None\n",
    "\n",
    "#adds node to tree\n",
    "def addNode(data):\n",
    "    node = Tree()\n",
    "    node.data = data\n",
    "    node.left = None\n",
    "    node.right = None\n",
    "    return node\n",
    "\n",
    "#prints tree in level order\n",
    "result = [[],[],[],[]]\n",
    "def printTree(head, level):\n",
    "    if head == None:\n",
    "        return\n",
    "    result[level].append(head.data)\n",
    "    printTree(head.left, level+1)\n",
    "    printTree(head.right, level+1)\n",
    "\n",
    "if __name__ == '__main__':\n",
    "  #level 1 nodes\n",
    "    head = addNode(1)\n",
    "    #level2 nodes\n",
    "    head.left = addNode(2)\n",
    "    head.right = addNode(3)\n",
    "    #level3 nodes\n",
    "    head.left.left = addNode(4)\n",
    "    head.left.right = addNode(5)\n",
    "    head.right.left = addNode(6)\n",
    "    head.right.right = addNode(7)\n",
    "    #level4 nodes\n",
    "    head.left.right.left = addNode(8)\n",
    "    head.left.right.right = addNode(9)\n",
    "    head.right.left.right = addNode(10)\n",
    "\n",
    "    #print tree\n",
    "    printTree(head,0)\n",
    "    for item in result:\n",
    "        print(item,end=\"\\n\")"
   ]
  },
  {
   "cell_type": "markdown",
   "metadata": {
    "id": "vyW3WpdLtOIR"
   },
   "source": [
    "Q4. Perform Inorder Traversal on above BTree.\n",
    "Constraint: SC = O(1)\n",
    "Output = 4 2 8 5 9 1 6 10 3 7."
   ]
  },
  {
   "cell_type": "code",
   "execution_count": 6,
   "metadata": {
    "colab": {
     "base_uri": "https://localhost:8080/"
    },
    "id": "xEzpKjPmtUnZ",
    "outputId": "a9198397-7c81-4c90-a030-93185d7acad0"
   },
   "outputs": [
    {
     "name": "stdout",
     "output_type": "stream",
     "text": [
      "4\n",
      "2\n",
      "8\n",
      "5\n",
      "9\n",
      "1\n",
      "6\n",
      "10\n",
      "3\n",
      "7\n"
     ]
    }
   ],
   "source": [
    "class Tree:\n",
    "  def __init__(self):\n",
    "    self.data = 0\n",
    "    self.left = None\n",
    "    self.right = None\n",
    "\n",
    "#adds node to tree\n",
    "def addNode(data):\n",
    "  node = Tree()\n",
    "  node.data = data\n",
    "  node.left = None\n",
    "  node.right = None\n",
    "  return node\n",
    "\n",
    "#prints tree\n",
    "queue = []\n",
    "def printTree(head):\n",
    "  if head == None:\n",
    "    return\n",
    "\n",
    "  printTree(head.left)\n",
    "  print(head.data)\n",
    "  printTree(head.right)\n",
    "\n",
    "if __name__ == '__main__':\n",
    "  #level 1 nodes\n",
    "  head = addNode(1)\n",
    "  #level2 nodes\n",
    "  head.left = addNode(2)\n",
    "  head.right = addNode(3)\n",
    "  #level3 nodes\n",
    "  head.left.left = addNode(4)\n",
    "  head.left.right = addNode(5)\n",
    "  head.right.left = addNode(6)\n",
    "  head.right.right = addNode(7)\n",
    "  #level4 nodes\n",
    "  head.left.right.left = addNode(8)\n",
    "  head.left.right.right = addNode(9)\n",
    "  head.right.left.right = addNode(10)\n",
    "\n",
    "  #print tree\n",
    "  printTree(head)"
   ]
  },
  {
   "cell_type": "markdown",
   "metadata": {
    "id": "P6y5cJkzwdKe"
   },
   "source": [
    "Q5. Find LCA of node 8 and node 7 in above BTree.\n",
    "Output = 1"
   ]
  },
  {
   "cell_type": "code",
   "execution_count": 12,
   "metadata": {
    "colab": {
     "base_uri": "https://localhost:8080/"
    },
    "id": "o0C4uaZ_w8a0",
    "outputId": "e29236ae-b2b7-447c-b8fb-990997bb58f1"
   },
   "outputs": [
    {
     "name": "stdout",
     "output_type": "stream",
     "text": [
      "1\n"
     ]
    }
   ],
   "source": [
    "class Tree:\n",
    "  def __init__(self):\n",
    "    self.data = 0\n",
    "    self.left = None\n",
    "    self.right = None\n",
    "\n",
    "#adds node to tree\n",
    "def addNode(data):\n",
    "  node = Tree()\n",
    "  node.data = data\n",
    "  node.left = None\n",
    "  node.right = None\n",
    "  return node\n",
    "def findPath(head, path, k):\n",
    "\n",
    "    # Base Case\n",
    "    if head is None:\n",
    "        return False\n",
    "    path.append(head.data)\n",
    "\n",
    "    # See if the k is same as head's key\n",
    "    if head.data == k:\n",
    "        return True\n",
    "\n",
    "    # Check if k is found in left or right sub-tree\n",
    "    if ((head.left != None and findPath(head.left, path, k)) or\n",
    "            (head.right != None and findPath(head.right, path, k))):\n",
    "        return True\n",
    "\n",
    "    path.pop()\n",
    "    return False\n",
    "\n",
    "\n",
    "def findLCA(head, n1, n2):\n",
    "\n",
    "    # To store paths to n1 and n2 from the head\n",
    "    path1 = []\n",
    "    path2 = []\n",
    "\n",
    "    if (not findPath(head, path1, n1) or not findPath(head, path2, n2)):\n",
    "        return -1\n",
    "\n",
    "    # Compare the paths to get the first different value\n",
    "    i = 0\n",
    "    while(i < len(path1) and i < len(path2)):\n",
    "        if path1[i] != path2[i]:\n",
    "            break\n",
    "        i += 1\n",
    "    return path1[i-1]\n",
    "\n",
    "#prints tree\n",
    "queue = []\n",
    "def printTree(head):\n",
    "  if head == None:\n",
    "    return\n",
    "\n",
    "  print(head.data)\n",
    "  printTree(head.left)\n",
    "  printTree(head.right)\n",
    "\n",
    "if __name__ == '__main__':\n",
    "  #level 1 nodes\n",
    "  head = addNode(1)\n",
    "  #level2 nodes\n",
    "  head.left = addNode(2)\n",
    "  head.right = addNode(3)\n",
    "  #level3 nodes\n",
    "  head.left.left = addNode(4)\n",
    "  head.left.right = addNode(5)\n",
    "  head.right.left = addNode(6)\n",
    "  head.right.right = addNode(7)\n",
    "  #level4 nodes\n",
    "  head.left.right.left = addNode(8)\n",
    "  head.left.right.right = addNode(9)\n",
    "  head.right.left.right = addNode(10)\n",
    "\n",
    "  #print tree\n",
    "  print(findLCA(head, 8, 7))\n"
   ]
  },
  {
   "cell_type": "markdown",
   "metadata": {
    "id": "RpqIP5HUw3Am"
   },
   "source": [
    "Q6. Convert the above BTree into LL. (Flatten the BTree)."
   ]
  },
  {
   "cell_type": "code",
   "execution_count": 14,
   "metadata": {
    "colab": {
     "base_uri": "https://localhost:8080/"
    },
    "id": "nom10GYpxEFA",
    "outputId": "f33f1873-b6a9-4221-a415-ac3df4814cd9"
   },
   "outputs": [
    {
     "name": "stdout",
     "output_type": "stream",
     "text": [
      "Given Tree:\n",
      "4\n",
      "2\n",
      "8\n",
      "5\n",
      "9\n",
      "1\n",
      "6\n",
      "10\n",
      "3\n",
      "7\n",
      "Flattened tree\n",
      "1\n",
      "2\n",
      "4\n",
      "5\n",
      "8\n",
      "9\n",
      "3\n",
      "6\n",
      "10\n",
      "7\n"
     ]
    }
   ],
   "source": [
    "class Tree:\n",
    "  def __init__(self):\n",
    "    self.data = 0\n",
    "    self.left = None\n",
    "    self.right = None\n",
    "\n",
    "#adds node to tree\n",
    "def addNode(data):\n",
    "  node = Tree()\n",
    "  node.data = data\n",
    "  node.left = None\n",
    "  node.right = None\n",
    "  return node\n",
    "\n",
    "#flats the tree\n",
    "def flatten(head):\n",
    "  while head != None:\n",
    "    if head.left != None:\n",
    "      temp = head.left\n",
    "      while temp.right != None:\n",
    "        temp = temp.right\n",
    "      temp.right = head.right\n",
    "      head.right = head.left\n",
    "      head.left = None\n",
    "    head = head.right\n",
    "\n",
    "#prints tree\n",
    "def printTree(head):\n",
    "  if head == None:\n",
    "    return\n",
    "\n",
    "  printTree(head.left)\n",
    "  print(head.data)\n",
    "  printTree(head.right)\n",
    "\n",
    "if __name__ == '__main__':\n",
    "  #level 1 nodes\n",
    "  head = addNode(1)\n",
    "  #level2 nodes\n",
    "  head.left = addNode(2)\n",
    "  head.right = addNode(3)\n",
    "  #level3 nodes\n",
    "  head.left.left = addNode(4)\n",
    "  head.left.right = addNode(5)\n",
    "  head.right.left = addNode(6)\n",
    "  head.right.right = addNode(7)\n",
    "  #level4 nodes\n",
    "  head.left.right.left = addNode(8)\n",
    "  head.left.right.right = addNode(9)\n",
    "  head.right.left.right = addNode(10)\n",
    "\n",
    "  #print tree\n",
    "  print(\"Given Tree:\")\n",
    "  printTree(head)\n",
    "\n",
    "  flatten(head)\n",
    "  print(\"Flattened tree\")\n",
    "  #Flatened tree\n",
    "  printTree(head)"
   ]
  },
  {
   "cell_type": "markdown",
   "metadata": {},
   "source": [
    "_Programs Written and compiled by sadam for lab purposes only._"
   ]
  }
 ],
 "metadata": {
  "colab": {
   "provenance": []
  },
  "kernelspec": {
   "display_name": "Python 3 (ipykernel)",
   "language": "python",
   "name": "python3"
  },
  "language_info": {
   "codemirror_mode": {
    "name": "ipython",
    "version": 3
   },
   "file_extension": ".py",
   "mimetype": "text/x-python",
   "name": "python",
   "nbconvert_exporter": "python",
   "pygments_lexer": "ipython3",
   "version": "3.11.4"
  }
 },
 "nbformat": 4,
 "nbformat_minor": 1
}
