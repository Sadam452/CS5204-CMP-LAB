{
  "nbformat": 4,
  "nbformat_minor": 0,
  "metadata": {
    "colab": {
      "provenance": []
    },
    "kernelspec": {
      "name": "python3",
      "display_name": "Python 3"
    },
    "language_info": {
      "name": "python"
    }
  },
  "cells": [
    {
      "cell_type": "code",
      "execution_count": null,
      "metadata": {
        "colab": {
          "base_uri": "https://localhost:8080/"
        },
        "id": "DZU_5oiVt_hP",
        "outputId": "e4677d52-adc1-4658-abda-8d397e152122"
      },
      "outputs": [
        {
          "name": "stdout",
          "output_type": "stream",
          "text": [
            "Enter -1 for Null\n",
            "Node data:40\n",
            "Enter left node of  40\n",
            "Node data:5\n",
            "Enter left node of  5\n",
            "Node data:-1\n",
            "Enter right node of  5\n",
            "Node data:1\n",
            "Enter left node of  1\n",
            "Node data:-1\n",
            "Enter right node of  1\n",
            "Node data:-1\n",
            "Enter right node of  40\n",
            "Node data:45\n",
            "Enter left node of  45\n",
            "Node data:-1\n",
            "Enter right node of  45\n",
            "Node data:-1\n"
          ]
        }
      ],
      "source": [
        "class Tree:\n",
        "  def __init__(self):\n",
        "    self.left = None\n",
        "    self.right = None\n",
        "    self.data = 0\n",
        "if __name__ == '__main__':\n",
        "  def createTree():\n",
        "    data = int(input(\"Node data:\"))\n",
        "    if data == -1:-\n",
        "      return None\n",
        "    node = Tree()\n",
        "    node.data = data\n",
        "\n",
        "    print(\"Enter left node of \",data)\n",
        "    node.left = createTree()\n",
        "    print(\"Enter right node of \",data)\n",
        "    node.right = createTree()\n",
        "    return node\n",
        "  print(\"Enter -1 for Null\")\n",
        "  root = createTree()"
      ]
    },
    {
      "cell_type": "code",
      "source": [
        "def printLevelOrder2(root):\n",
        "    if root is None:\n",
        "        return\n",
        "\n",
        "    queue = [root]\n",
        "\n",
        "    while queue:\n",
        "        level_length = len(queue)  # Number of nodes at the current level\n",
        "\n",
        "        for i in range(level_length):\n",
        "            node = queue.pop(0)\n",
        "            print(node.data, end=\" \")\n",
        "\n",
        "            if node.left:\n",
        "                queue.append(node.left)\n",
        "            if node.right:\n",
        "                queue.append(node.right)\n",
        "\n",
        "        print()  # Insert a newline after processing the current level\n",
        "printLevelOrder2(root)"
      ],
      "metadata": {
        "colab": {
          "base_uri": "https://localhost:8080/"
        },
        "id": "1kt3GOQv74tY",
        "outputId": "7c3f8dac-4a1c-4981-ea75-71f92fa4d4fc"
      },
      "execution_count": null,
      "outputs": [
        {
          "output_type": "stream",
          "name": "stdout",
          "text": [
            "40 \n",
            "5 45 \n",
            "1 \n"
          ]
        }
      ]
    },
    {
      "cell_type": "code",
      "source": [
        "#flatten binary tree\n",
        "class LinkedList:\n",
        "  def __init__(self):\n",
        "    self.data = 0\n",
        "    self.next = None\n",
        "def flattenTree(root):\n",
        "    if root is None:\n",
        "        return\n",
        "    head = LinkedList()\n",
        "    current = head\n",
        "    queue = [root]\n",
        "\n",
        "    while queue:\n",
        "            node = queue.pop(0)\n",
        "            current.data = node.data\n",
        "            current.next = LinkedList()\n",
        "            current = current.next\n",
        "            if node.left:\n",
        "                queue.append(node.left)\n",
        "            if node.right:\n",
        "                queue.append(node.right)\n",
        "    return head\n",
        "\n",
        "head = flattenTree(root)\n",
        "# Print the flattened linked list\n",
        "current = head\n",
        "while current:\n",
        "    print(current.data, end=\" -> \")\n",
        "    current = current.next\n",
        "print(\"None\")  # To indicate the end of the list"
      ],
      "metadata": {
        "colab": {
          "base_uri": "https://localhost:8080/"
        },
        "id": "Ac6ePnp7eT7i",
        "outputId": "1066d318-6d51-4ae7-aec0-2993eed90a3f"
      },
      "execution_count": null,
      "outputs": [
        {
          "output_type": "stream",
          "name": "stdout",
          "text": [
            "40 -> 5 -> 45 -> 1 -> 0 -> None\n"
          ]
        }
      ]
    }
  ]
}