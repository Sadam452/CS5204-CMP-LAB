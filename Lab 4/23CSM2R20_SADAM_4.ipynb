{
  "nbformat": 4,
  "nbformat_minor": 0,
  "metadata": {
    "colab": {
      "provenance": []
    },
    "kernelspec": {
      "name": "python3",
      "display_name": "Python 3"
    },
    "language_info": {
      "name": "python"
    }
  },
  "cells": [
    {
      "cell_type": "markdown",
      "source": [
        "# Roll No: 23CSM2R20\n",
        "# Name: Sadam Hussain Ganie\n",
        "# Lab 4"
      ],
      "metadata": {
        "id": "vyHJDJyMpRu2"
      }
    },
    {
      "cell_type": "markdown",
      "source": [
        "Problem A. Create a graph."
      ],
      "metadata": {
        "id": "V2m02JIATVrj"
      }
    },
    {
      "cell_type": "code",
      "execution_count": null,
      "metadata": {
        "colab": {
          "base_uri": "https://localhost:8080/"
        },
        "id": "KQybVkABTNsR",
        "outputId": "5245b7f1-7a17-44e4-8dda-8ec52618cf40"
      },
      "outputs": [
        {
          "output_type": "stream",
          "name": "stdout",
          "text": [
            "BFS: \n",
            "b=>a=>c=>d=>e=>f=>END\n",
            "DFS: \n",
            "b=>d=>f=>e=>c=>a=>END\n"
          ]
        }
      ],
      "source": [
        "#breadth first search on graph 'graph'\n",
        "def bfs(graph, map, rmap):\n",
        "  print(\"BFS: \")\n",
        "  start = map[\"b\"]\n",
        "  queue = [start]\n",
        "  visited = []\n",
        "  while queue:\n",
        "    print(rmap[queue[0]], end=\"=>\")\n",
        "    item = queue.pop(0)\n",
        "    visited.append(item)\n",
        "    for i in range(0, len(graph[item])):\n",
        "      if graph[item][i] != 0 and i not in queue and i not in visited:\n",
        "        queue.append(i)\n",
        "  print(\"END\")\n",
        "\n",
        "\n",
        "def dfs(graph, map, rmap):\n",
        "  print(\"DFS: \")\n",
        "  start = map[\"b\"]\n",
        "  stack = [start]\n",
        "  visited = []\n",
        "  while stack:\n",
        "    print(rmap[stack[-1]], end=\"=>\")\n",
        "    item = stack.pop(-1)\n",
        "    visited.append(item)\n",
        "    for i in range(0, len(graph[item])):\n",
        "      if graph[item][i] != 0 and i not in stack and i not in visited:\n",
        "        stack.append(i)\n",
        "  print(\"END\")\n",
        "\n",
        "\n",
        "\n",
        "graph = [[0,4,2,0,0,0], [4,0,1,5,0,0], [2,1,0,8,10,0], [0,5,8,0,2,6], [0,0,10,2,0,5], [0,0,0,6,5,0]]\n",
        "map = {\"a\":0, \"b\":1, \"c\":2, \"d\":3, \"e\":4, \"f\":5}\n",
        "rmap = {0:\"a\", 1:\"b\", 2:\"c\", 3:\"d\", 4:\"e\", 5:\"f\"}\n",
        "#Q1 part i\n",
        "bfs(graph, map, rmap)\n",
        "#Q1 part ii\n",
        "dfs(graph, map, rmap)\n"
      ]
    },
    {
      "cell_type": "markdown",
      "source": [
        "Problem ii. Given a directed graph, find the shortest path from vertex s(arbitrary) to\n",
        "vertex t(arbitrary) or else state that such path doesn’t exist."
      ],
      "metadata": {
        "id": "Ch41qyMGb0bE"
      }
    },
    {
      "cell_type": "code",
      "source": [
        "def sp(dir_graph, map, rmap):\n",
        "  start = map[\"a\"]\n",
        "  end = map[\"f\"]\n",
        "  result = 0\n",
        "  print(\"Finding shortest path from \", rmap[start], \"to\", rmap[end])\n",
        "  val = [9999]*len(map)\n",
        "  val[start] = 0\n",
        "  #print(val)\n",
        "  l = len(val)\n",
        "  while l:\n",
        "    min = 0\n",
        "    for i in range(1, len(val)):\n",
        "      if val[i] < val[min]:\n",
        "        min = i\n",
        "    for j in range(0, len(dir_graph[min])):\n",
        "      r = val[min] + dir_graph[min][j]\n",
        "      #print(r,val)\n",
        "      if val[j] != 8888 and r < val[j]:\n",
        "        val[j] = r\n",
        "    val[min] = 8888\n",
        "    if val[end] < 8888:\n",
        "      result = val[end]\n",
        "    l -= 1\n",
        "  print(result)\n",
        "\n",
        "dir_graph = [[9999,4,2,9999,9999,9999], [9999,9999,5,10,9999,9999], [9999,9999,9999,9999,3,9999], [9999,9999,9999,9999,9999,11], [9999,9999,9999,4,9999,9999], [9999,9999,9999,9999,9999,9999]]\n",
        "map = {\"a\":0, \"b\":1, \"c\":2, \"d\":3, \"e\":4, \"f\":5}\n",
        "rmap = {0:\"a\", 1:\"b\", 2:\"c\", 3:\"d\", 4:\"e\", 5:\"f\"}\n",
        "sp(dir_graph, map, rmap)"
      ],
      "metadata": {
        "colab": {
          "base_uri": "https://localhost:8080/"
        },
        "id": "HtKy0B3Tb0CV",
        "outputId": "d92a7fb7-bf09-4e33-ca55-c6a00d6fcc08"
      },
      "execution_count": null,
      "outputs": [
        {
          "output_type": "stream",
          "name": "stdout",
          "text": [
            "Finding shortest path from  a to f\n",
            "20\n"
          ]
        }
      ]
    },
    {
      "cell_type": "markdown",
      "source": [
        "**Problem B.**\n",
        "Welcome to the Cloud Computing Laboratory! Here, we have n cutting-edge\n",
        "computers, some interconnected by a network of m Ethernet cables. However, there’s a\n",
        "fascinating challenge: not all of our computers are connected to each other, and we aim to\n",
        "establish complete connectivity by adding extra Ethernet cables. As a network administrator,\n",
        "your mission is to achieve this connectivity goal with the utmost efficiency. Your task is to\n",
        "determine the minimum number of these additional Ethernet cables needed to make them\n",
        "connected."
      ],
      "metadata": {
        "id": "9Dk9RIEntT90"
      }
    },
    {
      "cell_type": "code",
      "source": [
        "count = 0\n",
        "def countCables(start, graph, map, rmap, visited_):\n",
        "  stack = [start]\n",
        "  visited = []\n",
        "  global count\n",
        "  while stack:\n",
        "    #print(rmap[stack[-1]], end=\"=>\")\n",
        "    item = stack.pop(-1)\n",
        "    visited.append(item)\n",
        "    visited_.remove(item)\n",
        "    for i in range(0, len(graph[item])):\n",
        "      if graph[item][i] != 0 and i not in stack and i not in visited:\n",
        "        stack.append(i)\n",
        "  count += 1\n",
        "  #print(count)\n",
        "  if visited_:\n",
        "    countCables(visited_[0],graph, map, rmap, visited_)\n",
        "\n",
        "map = {\"a\":0, \"b\":1, \"c\":2, \"d\":3, \"e\":4, \"f\":5, \"g\":6, \"h\":7}\n",
        "rmap = {0:\"a\", 1:\"b\", 2:\"c\", 3:\"d\", 4:\"e\", 5:\"f\", 6:\"g\", 7:\"h\"}\n",
        "connections = [[0,1,1,0,0,0,0,0],[1,0,1,0,0,0,0,0],[1,1,0,0,0,0,0,0],[0,0,0,0,1,0,0,0], [0,0,0,1,0,0,0,0], [0,0,0,0,0,0,1,0], [0,0,0,0,0,1,0,0], [0,0,0,0,0,0,0,0]]\n",
        "visited = [0,1,2,3,4,5,6,7]\n",
        "noOfcables = countCables(0,connections, map, rmap, visited)\n",
        "print(\"Cables required = \",count-1)"
      ],
      "metadata": {
        "colab": {
          "base_uri": "https://localhost:8080/"
        },
        "id": "buQpYFmZtW6w",
        "outputId": "08d1ffaa-44ff-490a-a36a-eebeaf4ad7f2"
      },
      "execution_count": null,
      "outputs": [
        {
          "output_type": "stream",
          "name": "stdout",
          "text": [
            "Cables required =  3\n"
          ]
        }
      ]
    },
    {
      "cell_type": "markdown",
      "source": [
        "**Problem C.** Implement Prim’s algorithm and Kruskal’s algorithm."
      ],
      "metadata": {
        "id": "PsYaVjxr4hAA"
      }
    },
    {
      "cell_type": "code",
      "source": [
        "def prims(graph, map, rmap):\n",
        "    num_vertices = len(graph)\n",
        "    visited = [False] * num_vertices\n",
        "    key = [9999] * num_vertices\n",
        "    key[0] = 0  # Start from the first vertex\n",
        "\n",
        "    total_cost = 0\n",
        "\n",
        "    for _ in range(num_vertices):\n",
        "        min_key = float('inf')\n",
        "        min_vertex = -1\n",
        "        for v in range(num_vertices):\n",
        "            if not visited[v] and key[v] < min_key:\n",
        "                min_key = key[v]\n",
        "                min_vertex = v\n",
        "        visited[min_vertex] = True\n",
        "        total_cost += min_key\n",
        "        for v in range(num_vertices):\n",
        "            if (\n",
        "                not visited[v]\n",
        "                and graph[min_vertex][v] != 9999\n",
        "                and graph[min_vertex][v] < key[v]\n",
        "            ):\n",
        "                key[v] = graph[min_vertex][v]\n",
        "\n",
        "    return total_cost\n",
        "\n",
        "graph = [[9999, 4, 2, 9999, 9999, 9999], [4, 9999, 1, 5, 9999, 9999], [2, 1, 9999, 8, 10, 9999], [9999, 5, 8, 9999, 2, 6], [9999, 9999, 10, 2, 9999, 5], [9999, 9999, 9999, 6, 5, 9999]]\n",
        "map = {\"a\": 0, \"b\": 1, \"c\": 2, \"d\": 3, \"e\": 4, \"f\": 5}\n",
        "rmap = {0: \"a\", 1: \"b\", 2: \"c\", 3: \"d\", 4: \"e\", 5: \"f\"}\n",
        "\n",
        "min_spanning_tree_cost = prims(graph, map, rmap)\n",
        "print(\"Minimum Spanning Tree Cost:\", min_spanning_tree_cost)"
      ],
      "metadata": {
        "id": "gkLsl1nO4kFg",
        "colab": {
          "base_uri": "https://localhost:8080/"
        },
        "outputId": "9f0c6277-3d45-45a3-91e6-b14e4587d47f"
      },
      "execution_count": null,
      "outputs": [
        {
          "output_type": "stream",
          "name": "stdout",
          "text": [
            "Minimum Spanning Tree Cost: 15\n"
          ]
        }
      ]
    },
    {
      "cell_type": "markdown",
      "source": [
        "Kruskal's algorithm"
      ],
      "metadata": {
        "id": "xpxvsI-olsMm"
      }
    },
    {
      "cell_type": "code",
      "source": [
        "def find(parent, i):\n",
        "    if parent[i] == i:\n",
        "        return i\n",
        "    return find(parent, parent[i])\n",
        "\n",
        "def union(parent, rank, x, y):\n",
        "    x_root = find(parent, x)\n",
        "    y_root = find(parent, y)\n",
        "\n",
        "    if rank[x_root] < rank[y_root]:\n",
        "        parent[x_root] = y_root\n",
        "    elif rank[x_root] > rank[y_root]:\n",
        "        parent[y_root] = x_root\n",
        "    else:\n",
        "        parent[y_root] = x_root\n",
        "        rank[x_root] += 1\n",
        "\n",
        "def kruskal(graph, map, rmap):\n",
        "    num_vertices = len(graph)\n",
        "    edges = []\n",
        "\n",
        "    for i in range(num_vertices):\n",
        "        for j in range(i + 1, num_vertices):\n",
        "            if graph[i][j] != 9999:\n",
        "                edges.append((i, j, graph[i][j]))\n",
        "\n",
        "    edges.sort(key=lambda x: x[2])  # Sort edges by weight\n",
        "\n",
        "    parent = list(range(num_vertices))\n",
        "    rank = [0] * num_vertices\n",
        "\n",
        "    total_cost = 0\n",
        "\n",
        "    for edge in edges:\n",
        "        u, v, weight = edge\n",
        "        u_root = find(parent, u)\n",
        "        v_root = find(parent, v)\n",
        "\n",
        "        if u_root != v_root:\n",
        "            total_cost += weight\n",
        "            union(parent, rank, u_root, v_root)\n",
        "\n",
        "    return total_cost\n",
        "\n",
        "graph = [[9999, 4, 2, 9999, 9999, 9999], [4, 9999, 1, 5, 9999, 9999], [2, 1, 9999, 8, 10, 9999], [9999, 5, 8, 9999, 2, 6], [9999, 9999, 10, 2, 9999, 5], [9999, 9999, 9999, 6, 5, 9999]]\n",
        "map = {\"a\": 0, \"b\": 1, \"c\": 2, \"d\": 3, \"e\": 4, \"f\": 5}\n",
        "rmap = {0: \"a\", 1: \"b\", 2: \"c\", 3: \"d\", 4: \"e\", 5: \"f\"}\n",
        "\n",
        "min_spanning_tree_cost = kruskal(graph, map, rmap)\n",
        "print(\"Minimum Spanning Tree Cost (Kruskal):\", min_spanning_tree_cost)\n"
      ],
      "metadata": {
        "colab": {
          "base_uri": "https://localhost:8080/"
        },
        "id": "N1_mYEKSluK9",
        "outputId": "1becea4d-99b8-47ae-e6eb-e1844f3c8c36"
      },
      "execution_count": null,
      "outputs": [
        {
          "output_type": "stream",
          "name": "stdout",
          "text": [
            "Minimum Spanning Tree Cost (Kruskal): 15\n"
          ]
        }
      ]
    },
    {
      "cell_type": "markdown",
      "source": [
        "**Problem D.** Perform radix sort and shell sort."
      ],
      "metadata": {
        "id": "rsDHk2kfnMAu"
      }
    },
    {
      "cell_type": "code",
      "source": [
        "def radix_sort(arr):\n",
        "    max_num = max(arr)\n",
        "    exp = 1\n",
        "    n = len(arr)\n",
        "\n",
        "    while max_num // exp > 0:\n",
        "        counting_sort(arr, exp, n)\n",
        "        exp *= 10\n",
        "\n",
        "def counting_sort(arr, exp, n):\n",
        "    output = [0] * n\n",
        "    count = [0] * 10\n",
        "\n",
        "    for i in range(n):\n",
        "        index = (arr[i] // exp)\n",
        "        count[index % 10] += 1\n",
        "\n",
        "    for i in range(1, 10):\n",
        "        count[i] += count[i - 1]\n",
        "\n",
        "    i = n - 1\n",
        "    while i >= 0:\n",
        "        index = (arr[i] // exp)\n",
        "        output[count[index % 10] - 1] = arr[i]\n",
        "        count[index % 10] -= 1\n",
        "        i -= 1\n",
        "\n",
        "    for i in range(n):\n",
        "        arr[i] = output[i]\n",
        "\n",
        "arr = [270, 45, 5, 90, 102, 24, 20, 66]\n",
        "radix_sort(arr)\n",
        "print(\"Radix Sorted Array:\", arr)\n"
      ],
      "metadata": {
        "colab": {
          "base_uri": "https://localhost:8080/"
        },
        "id": "yI38MdVdnMwX",
        "outputId": "1c5f753f-3ac7-42d5-ba2c-65328a7f7708"
      },
      "execution_count": null,
      "outputs": [
        {
          "output_type": "stream",
          "name": "stdout",
          "text": [
            "Radix Sorted Array: [5, 20, 24, 45, 66, 90, 102, 270]\n"
          ]
        }
      ]
    },
    {
      "cell_type": "code",
      "source": [
        "def shell_sort(arr):\n",
        "    n = len(arr)\n",
        "    gap = n // 2\n",
        "\n",
        "    while gap > 0:\n",
        "        for i in range(gap, n):\n",
        "            temp = arr[i]\n",
        "            j = i\n",
        "\n",
        "            while j >= gap and arr[j - gap] > temp:\n",
        "                arr[j] = arr[j - gap]\n",
        "                j -= gap\n",
        "\n",
        "            arr[j] = temp\n",
        "        gap //= 2\n",
        "\n",
        "arr = [270, 45, 5, 90, 102, 24, 20, 66]\n",
        "shell_sort(arr)\n",
        "print(\"Shell Sorted Array:\", arr)\n"
      ],
      "metadata": {
        "colab": {
          "base_uri": "https://localhost:8080/"
        },
        "id": "hYNpXQaBofuF",
        "outputId": "3bad719f-2b88-4f65-ad0e-eb1cecb80190"
      },
      "execution_count": null,
      "outputs": [
        {
          "output_type": "stream",
          "name": "stdout",
          "text": [
            "Shell Sorted Array: [5, 20, 24, 45, 66, 90, 102, 270]\n"
          ]
        }
      ]
    }
  ]
}